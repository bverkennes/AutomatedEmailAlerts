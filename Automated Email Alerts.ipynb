{
 "cells": [
  {
   "cell_type": "code",
   "execution_count": 1,
   "metadata": {},
   "outputs": [
    {
     "data": {
      "image/png": "[encoded data removed]",
      "text/plain": [
       "<IPython.core.display.Image object>"
      ]
     },
     "metadata": {},
     "output_type": "display_data"
    }
   ],
   "source": [
    "#Not to be distributed without granted permission\n",
    "from IPython.display import display, Image\n",
    "display(Image(filename='logo.png'))"
   ]
  },
  {
   "cell_type": "markdown",
   "metadata": {},
   "source": [
    "# Automated Alert Script"
   ]
  },
  {
   "cell_type": "markdown",
   "metadata": {},
   "source": [
    "## Business Use Case"
   ]
  },
  {
   "cell_type": "markdown",
   "metadata": {},
   "source": [
    "The Objective of this exercise is to create automatic email alerts to provide key insights from data in a SQL database (Microsoft SQL Server).  By creating this script, we can set criteria to look for red flags, positive insights, and more, reducing overhead and creating set standards for KPIs.  We will look at the following variables: A,B,C.  Lastly, we'll provide next steps to take this analysis further."
   ]
  },
  {
   "cell_type": "markdown",
   "metadata": {},
   "source": [
    "## Imports"
   ]
  },
  {
   "cell_type": "code",
   "execution_count": 5,
   "metadata": {
    "collapsed": true
   },
   "outputs": [],
   "source": [
    "import pandas as pd\n",
    "import datetime\n",
    "import os\n",
    "import smtplib\n",
    "from email.mime.multipart import MIMEMultipart\n",
    "from email.mime.text import MIMEText\n",
    "from email.mime.image import MIMEImage\n",
    "from email.mime.base import MIMEBase\n",
    "from email import encoders\n",
    "import datetime\n",
    "import p #My custom module for login details"
   ]
  },
  {
   "cell_type": "code",
   "execution_count": 6,
   "metadata": {
    "collapsed": true
   },
   "outputs": [],
   "source": [
    "#Let's get the date to keep clean records of the files and emails for recollection and audit purposes\n",
    "datez = datetime.datetime.now().strftime('%Y-%m-%d')"
   ]
  },
  {
   "cell_type": "code",
   "execution_count": null,
   "metadata": {
    "collapsed": true
   },
   "outputs": [],
   "source": [
    "#SQL connection and query; change UID=UID and PWD=PWD to the actual userID and password respectively\n",
    "cnxn=pyodbc.connect('DRIVER={SQL Server};SERVER=SERVER;PORT:1433;DATABASE=DATABASE;UID=UID;PWD=PWD;Trusted_connection=yes')\n",
    "cursor = cnxn.cursor()\n",
    "#Instead of SQL SCRIPT, put your actual SQL Script\n",
    "cursor.execute(\"\"\"\n",
    "    SQL SCRIPT\n",
    "    \"\"\")\n",
    "\n",
    "row=cursor.fetchall()\n",
    "\n",
    "#Write SQL to CSV\n",
    "with open('file'+datez+'.csv', 'w', newline='') as fp:\n",
    "    writer = csv.writer(fp, delimiter=',')\n",
    "    writer.writerow(['header 1','header2'])\n",
    "    writer.writerows(row)\n",
    "\n",
    "for row in cursor.fetchall():\n",
    "    print(row)"
   ]
  },
  {
   "cell_type": "code",
   "execution_count": 15,
   "metadata": {
    "collapsed": true
   },
   "outputs": [
    {
     "name": "stdout",
     "output_type": "stream",
     "text": [
      "Sent to stucchireplay@gmail.com and ['stucchireplay@gmail.com', 'stucchireplay@gmail.com']\n"
     ]
    }
   ],
   "source": [
    "#Set up crap for the attachments\n",
    "files = \"C:/Users/B/Desktop/pythonScripts\"\n",
    "filenames = ['file'+datez+'.csv']\n",
    "\n",
    "message = 'Test email: '+datetime.datetime.now().strftime('%Y-%m-%d')\n",
    "\n",
    "#Set up users for email\n",
    "gmail_user = p.emailUser() #Set this to be the email sender/cron job; e.g. 'sender@gmail.com'\n",
    "gmail_pwd = p.emailPass() #Set this be the sender/cron job's password; e.g. 'password123'\n",
    "recipients = [p.emailRecipient1(),p.emailRecipient2()] #Set this to be the email recipient; e.g. ['recipient1@gmail.com','recipient2@gmail.com']\n",
    "\n",
    "#Create Module\n",
    "def mail(to, subject, text, attach):\n",
    "    msg = MIMEMultipart()\n",
    "    msg['From'] = gmail_user\n",
    "    msg['To'] = \", \".join(recipients)\n",
    "    msg['Subject'] = subject\n",
    "\n",
    "    msg.attach(MIMEText(text))\n",
    "\n",
    "    #get all the attachments\n",
    "    for file in filenames:\n",
    "      part = MIMEBase('application', 'octet-stream')\n",
    "      part.set_payload(open(file, 'rb').read())\n",
    "      encoders.encode_base64(part)\n",
    "      part.add_header('Content-Disposition', 'attachment; filename=\"%s\"' % file)\n",
    "      msg.attach(part)\n",
    "\n",
    "    mailServer = smtplib.SMTP(\"smtp.gmail.com\", 587)\n",
    "    #mailServer.ehlo()\n",
    "    mailServer.starttls()\n",
    "    #mailServer.ehlo()\n",
    "    mailServer.login(gmail_user, gmail_pwd)\n",
    "    try:\n",
    "        mailServer.sendmail(gmail_user, to, msg.as_string())\n",
    "        #mailServer.close()\n",
    "        mailServer.quit()\n",
    "        print('Sent to', gmail_user, 'and', recipients)\n",
    "    except:\n",
    "        print('Failed to send to', gmail_user, 'and', recipients)\n",
    "        \n",
    "#send it\n",
    "mail(recipients,\n",
    "   'Testing this out',\n",
    "   message,\n",
    "   filenames)"
   ]
  }
 ],
 "metadata": {
  "kernelspec": {
   "display_name": "Python 3",
   "language": "python",
   "name": "python3"
  },
  "language_info": {
   "codemirror_mode": {
    "name": "ipython",
    "version": 3
   },
   "file_extension": ".py",
   "mimetype": "text/x-python",
   "name": "python",
   "nbconvert_exporter": "python",
   "pygments_lexer": "ipython3",
   "version": "3.6.1"
  }
 },
 "nbformat": 4,
 "nbformat_minor": 2
}
